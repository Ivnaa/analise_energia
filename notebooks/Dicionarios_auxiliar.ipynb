{
 "cells": [
  {
   "cell_type": "code",
   "execution_count": 7,
   "id": "4d89cc23-c9e7-4911-9c33-ff303724e4bd",
   "metadata": {},
   "outputs": [],
   "source": [
    "import pickle"
   ]
  },
  {
   "cell_type": "code",
   "execution_count": 8,
   "id": "a69e0e1d-f768-4db8-861f-c4b5185a42eb",
   "metadata": {},
   "outputs": [],
   "source": [
    "dicionario_aux = {\n",
    "\n",
    "    #BLOCO: disjuntor_entrada\n",
    "    \n",
    "    'SQN_102': \n",
    "            {'A': 225,\n",
    "             'B': 225,\n",
    "             'C': 200,\n",
    "             'D': 225,\n",
    "             'E': 160,\n",
    "             'F': 200,\n",
    "             'G': 200,\n",
    "             'H': 200},\n",
    "        \n",
    "   'SQN_103': \n",
    "            {'A': 200,\n",
    "             'B': 200,\n",
    "             'C': 200,\n",
    "             'D': 200,\n",
    "             'E': 200,\n",
    "             'F': 200,\n",
    "             'G': 200,\n",
    "             'H': 160,\n",
    "             'I': 200,\n",
    "             'J': 200,\n",
    "             'K': 200},\n",
    "\n",
    "    'SQN_303': \n",
    "            {'A': 250,\n",
    "             'B': 250,\n",
    "             'C': 250},\n",
    "    \n",
    "    'SQN_305': \n",
    "            {'A': 200,\n",
    "             'B': 200,\n",
    "             'E': 200},\n",
    "    \n",
    "    'SQN_306': \n",
    "            {'A': 160,\n",
    "             'B': None,\n",
    "             'C': 160,\n",
    "             'D': None,\n",
    "             'E': 160,\n",
    "             'F': None,\n",
    "             'G': None,\n",
    "             'H': None,\n",
    "             'I': None,\n",
    "             'J': None,\n",
    "             'K': 160},\n",
    "    \n",
    "    'SQN_113': \n",
    "            {'A': 200,\n",
    "             'B': 200,\n",
    "             'C': 200,\n",
    "             'D': 200,\n",
    "             'E': 200,\n",
    "             'F': 200,\n",
    "             'G': 200,\n",
    "             'H': 200},\n",
    "\n",
    "    'SQN_208': \n",
    "            {'C': 200},\n",
    "    \n",
    "    'SQN_111': \n",
    "            {'B': 200},\n",
    "    \n",
    "     'SQN_114': \n",
    "            {'F': 160,\n",
    "             'J': 160},   \n",
    "            \n",
    "    'SQN_116': \n",
    "            {'C': 160},     \n",
    "    \n",
    "    'SQS_209': \n",
    "            {'A': 125,\n",
    "             'B': 200,\n",
    "             'C': 160,\n",
    "             'D': 160,\n",
    "             'E': 125,\n",
    "             'F': 160,\n",
    "             'G': 200,\n",
    "             'H': 125,\n",
    "             'I': 160,\n",
    "             'J': 200,\n",
    "             'K': 200}, \n",
    "\n",
    "    'SQS_115': \n",
    "            {'A': 200,\n",
    "             'E': 200,\n",
    "             'G': 200,\n",
    "             'I': 200},\n",
    "                         \n",
    "}"
   ]
  },
  {
   "cell_type": "code",
   "execution_count": 9,
   "id": "eba3238d-8c42-4eeb-8ca9-0fe76e53d73d",
   "metadata": {},
   "outputs": [
    {
     "name": "stdout",
     "output_type": "stream",
     "text": [
      "Dicionário salvo em ../outputs/dicionario_aux.pkl ✅\n"
     ]
    }
   ],
   "source": [
    "# salva o dicionário auxiliar\n",
    "with open(\"../outputs/dicionario_aux.pkl\", \"wb\") as f:\n",
    "    pickle.dump(dicionario_aux, f)\n",
    "\n",
    "print(\"Dicionário salvo em ../outputs/dicionario_aux.pkl ✅\")"
   ]
  },
  {
   "cell_type": "code",
   "execution_count": null,
   "id": "7f30db4d-4666-44cf-bec3-46f1263f8613",
   "metadata": {},
   "outputs": [],
   "source": []
  }
 ],
 "metadata": {
  "kernelspec": {
   "display_name": "Python 3 (ipykernel)",
   "language": "python",
   "name": "python3"
  },
  "language_info": {
   "codemirror_mode": {
    "name": "ipython",
    "version": 3
   },
   "file_extension": ".py",
   "mimetype": "text/x-python",
   "name": "python",
   "nbconvert_exporter": "python",
   "pygments_lexer": "ipython3",
   "version": "3.13.2"
  }
 },
 "nbformat": 4,
 "nbformat_minor": 5
}
