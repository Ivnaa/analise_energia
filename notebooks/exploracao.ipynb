{
 "cells": [
  {
   "cell_type": "code",
   "execution_count": 1,
   "id": "d7563acd-f878-4d4d-a554-eb53a17234ac",
   "metadata": {},
   "outputs": [],
   "source": [
    "# Importando as bibliotecas\n",
    "import pandas as pd"
   ]
  },
  {
   "cell_type": "code",
   "execution_count": 8,
   "id": "a5cbd7c7-a0cd-4da3-b5a8-b5554ffef2b8",
   "metadata": {},
   "outputs": [],
   "source": [
    "# Ler as 31 primeiras linhas como strings\n",
    "with open(\"../data/103_B.csv\", \"r\", encoding=\"utf-8\") as f:\n",
    "    header_lines = [next(f).strip() for _ in range(31)]"
   ]
  },
  {
   "cell_type": "code",
   "execution_count": 9,
   "id": "c2d776d3-2147-4e2b-9b48-587f0cae6f87",
   "metadata": {},
   "outputs": [],
   "source": [
    "# Criar dicionário com 5 informações que você quer\n",
    "informacoes_interessantes = [\"INTERVAL\", \"NOMINAL VOLTAGE\", \"FREQUENCY\", \"START\", \"STOP\"]\n",
    "metadados = {}"
   ]
  },
  {
   "cell_type": "code",
   "execution_count": 13,
   "id": "90549ca9-aca6-4dec-bbd4-17970e09d5c9",
   "metadata": {},
   "outputs": [
    {
     "name": "stdout",
     "output_type": "stream",
     "text": [
      "{'INTERVAL': '30 sec.', 'NOMINAL VOLTAGE': '220V', 'FREQUENCY': '60Hz', 'START': '2023/06/19_14:44:45', 'STOP': '2023/06/29_18:35:04'}\n"
     ]
    }
   ],
   "source": [
    "with open(file_path, \"r\", encoding=\"utf-8\") as f:\n",
    "    for _ in range(31):  # primeiras 31 linhas do cabeçalho\n",
    "        line = f.readline().strip()\n",
    "        if \";\" in line:\n",
    "            # separa pelos primeiros 2 \";\" para pegar Coluna A e C\n",
    "            parts = line.split(\";\")\n",
    "            key = parts[0].strip()\n",
    "            value = parts[2].strip()  # Coluna C\n",
    "            if key in informacoes_interessantes:\n",
    "                metadados[key] = value\n",
    "                \n",
    "# Limpar aspas simples de todos os valores\n",
    "metadados = {k: v.strip(\"'\") for k, v in metadados.items()}\n",
    "\n",
    "print(metadados)"
   ]
  },
  {
   "cell_type": "code",
   "execution_count": null,
   "id": "d76682a4-333c-4ede-a4e4-b635c91a2a8c",
   "metadata": {},
   "outputs": [],
   "source": []
  },
  {
   "cell_type": "code",
   "execution_count": null,
   "id": "2325fcd1-30e5-4f0d-80cf-08caf1d2ff18",
   "metadata": {},
   "outputs": [],
   "source": []
  }
 ],
 "metadata": {
  "kernelspec": {
   "display_name": "Python 3 (ipykernel)",
   "language": "python",
   "name": "python3"
  },
  "language_info": {
   "codemirror_mode": {
    "name": "ipython",
    "version": 3
   },
   "file_extension": ".py",
   "mimetype": "text/x-python",
   "name": "python",
   "nbconvert_exporter": "python",
   "pygments_lexer": "ipython3",
   "version": "3.13.2"
  }
 },
 "nbformat": 4,
 "nbformat_minor": 5
}
