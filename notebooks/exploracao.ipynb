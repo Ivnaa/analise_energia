{
 "cells": [
  {
   "cell_type": "code",
   "execution_count": 18,
   "id": "d7563acd-f878-4d4d-a554-eb53a17234ac",
   "metadata": {},
   "outputs": [],
   "source": [
    "# Importando as bibliotecas\n",
    "import pandas as pd"
   ]
  },
  {
   "cell_type": "code",
   "execution_count": 19,
   "id": "a5cbd7c7-a0cd-4da3-b5a8-b5554ffef2b8",
   "metadata": {},
   "outputs": [],
   "source": [
    "# Ler as 31 primeiras linhas como strings\n",
    "with open(\"../data/103_B.csv\", \"r\", encoding=\"utf-8\") as f:\n",
    "    header_lines = [next(f).strip() for _ in range(31)]"
   ]
  },
  {
   "cell_type": "code",
   "execution_count": 20,
   "id": "c2d776d3-2147-4e2b-9b48-587f0cae6f87",
   "metadata": {},
   "outputs": [],
   "source": [
    "# Criar dicionário com 5 informações que você quer\n",
    "informacoes_interessantes = [\"INTERVAL\", \"NOMINAL VOLTAGE\", \"FREQUENCY\", \"START\", \"STOP\"]\n",
    "metadados = {}"
   ]
  },
  {
   "cell_type": "code",
   "execution_count": 21,
   "id": "90549ca9-aca6-4dec-bbd4-17970e09d5c9",
   "metadata": {},
   "outputs": [
    {
     "name": "stdout",
     "output_type": "stream",
     "text": [
      "{'INTERVAL': '30 sec.', 'NOMINAL VOLTAGE': '220V', 'FREQUENCY': '60Hz', 'START': '2023/06/19_14:44:45', 'STOP': '2023/06/29_18:35:04'}\n",
      "INTERVAL: 30 sec.\n",
      "NOMINAL VOLTAGE: 220V\n",
      "FREQUENCY: 60Hz\n",
      "START: 2023-06-19 14:44:45\n",
      "STOP: 2023-06-29 18:35:04\n",
      "DURATION: 10 days 03:50:19\n"
     ]
    }
   ],
   "source": [
    "with open(file_path, \"r\", encoding=\"utf-8\") as f:\n",
    "    for _ in range(31):  # primeiras 31 linhas do cabeçalho\n",
    "        line = f.readline().strip()\n",
    "        if \";\" in line:\n",
    "            # separa pelos primeiros 2 \";\" para pegar Coluna A e C\n",
    "            parts = line.split(\";\")\n",
    "            key = parts[0].strip()\n",
    "            value = parts[2].strip()  # Coluna C\n",
    "            if key in informacoes_interessantes:\n",
    "                metadados[key] = value\n",
    "                \n",
    "# Limpar aspas simples de todos os valores\n",
    "metadados = {k: v.strip(\"'\") for k, v in metadados.items()}\n",
    "\n",
    "print(metadados)\n",
    "\n",
    "\n",
    "# Converter START e STOP para datetime diretamente no dicionário\n",
    "metadados['START'] = pd.to_datetime(metadados['START'], format=\"%Y/%m/%d_%H:%M:%S\")\n",
    "metadados['STOP'] = pd.to_datetime(metadados['STOP'], format=\"%Y/%m/%d_%H:%M:%S\")\n",
    "\n",
    "# Calcular duração e adicionar ao dicionário\n",
    "metadados['DURATION'] = metadados['STOP'] - metadados['START']\n",
    "\n",
    "# Mostrar resultado\n",
    "for k, v in metadados.items():\n",
    "    print(f\"{k}: {v}\")"
   ]
  },
  {
   "cell_type": "code",
   "execution_count": 48,
   "id": "d76682a4-333c-4ede-a4e4-b635c91a2a8c",
   "metadata": {},
   "outputs": [
    {
     "name": "stdout",
     "output_type": "stream",
     "text": [
      "                  V1     V2     V3\n",
      "Average value  222.0  221.0  223.0\n",
      "Max value      235.0  235.0  235.0\n",
      "Min value      213.0  211.0  213.0\n",
      "\n",
      "Limite mínimo: 207\n",
      "Limite máximo: 253\n",
      "V1: tensões dentro do limite.\n",
      "V2: tensões dentro do limite.\n",
      "V3: tensões dentro do limite.\n"
     ]
    }
   ],
   "source": [
    "# Caminho para o arquivo\n",
    "file_path = \"../data/103_B.csv\"\n",
    "\n",
    "# Lendo todo o CSV como tabela genérica\n",
    "df = pd.read_csv(file_path, sep=\";\", header=None)\n",
    "\n",
    "# Selecionar linhas 33 a 37 (em pandas o índice começa em 0, então é 32:37)\n",
    "df_tensoes = df.loc[[32, 33, 35], [3, 4, 5]].copy()\n",
    "\n",
    "# Nomeando colunas\n",
    "df_tensoes.columns = [\"V1\", \"V2\", \"V3\"]\n",
    "\n",
    "# Nomeando as linhas (conforme a ordem que você passou)\n",
    "df_tensoes.index = [\n",
    "    \"Average value\",\n",
    "    \"Max value\",\n",
    "    \"Min value\",\n",
    "]\n",
    "\n",
    "# Converter todas as colunas do dataframe\n",
    "df_tensoes = df_tensoes.astype(str)                # garantir que são strings\n",
    "df_tensoes = df_tensoes.apply(lambda x: x.str.replace(\",\", \".\"))\n",
    "df_tensoes = df_tensoes.apply(pd.to_numeric, errors='coerce')\n",
    "\n",
    "print(df_tensoes)\n",
    "\n",
    "limite_min = 207\n",
    "limite_max = 253\n",
    "\n",
    "print(f\"\\nLimite mínimo: {limite_min}\\nLimite máximo: {limite_max}\")\n",
    "\n",
    "tensao_max = df_tensoes.loc[\"Max value\"]\n",
    "tensao_min = df_tensoes.loc[\"Min value\"]\n",
    "\n",
    "for col in df_tensoes.columns[0:3]:\n",
    "    if tensao_min[col] < limite_min:\n",
    "        print(f\"{col}: valor mínimo {tensao_min[col]} V abaixo do limite mínimo ({limite_min} V)\")\n",
    "    if tensao_max[col] > limite_max:\n",
    "        print(f\"{col}: valor máximo {tensao_max[col]} V acima do limite máximo ({limite_max} V)\")\n",
    "    if limite_min <= tensao_min[col] <= limite_max and limite_min <= tensao_max[col] <= limite_max:\n",
    "        print(f\"{col}: tensões dentro do limite.\")"
   ]
  },
  {
   "cell_type": "code",
   "execution_count": null,
   "id": "2325fcd1-30e5-4f0d-80cf-08caf1d2ff18",
   "metadata": {},
   "outputs": [],
   "source": []
  }
 ],
 "metadata": {
  "kernelspec": {
   "display_name": "Python 3 (ipykernel)",
   "language": "python",
   "name": "python3"
  },
  "language_info": {
   "codemirror_mode": {
    "name": "ipython",
    "version": 3
   },
   "file_extension": ".py",
   "mimetype": "text/x-python",
   "name": "python",
   "nbconvert_exporter": "python",
   "pygments_lexer": "ipython3",
   "version": "3.13.2"
  }
 },
 "nbformat": 4,
 "nbformat_minor": 5
}
